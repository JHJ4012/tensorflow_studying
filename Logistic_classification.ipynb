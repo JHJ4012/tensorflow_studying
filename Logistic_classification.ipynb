{
  "nbformat": 4,
  "nbformat_minor": 0,
  "metadata": {
    "colab": {
      "name": "Logistic_classification.ipynb",
      "provenance": [],
      "collapsed_sections": [],
      "include_colab_link": true
    },
    "kernelspec": {
      "name": "python3",
      "display_name": "Python 3"
    },
    "accelerator": "GPU"
  },
  "cells": [
    {
      "cell_type": "markdown",
      "metadata": {
        "id": "view-in-github",
        "colab_type": "text"
      },
      "source": [
        "<a href=\"https://colab.research.google.com/github/JHJ4012/tensorflow_studying/blob/master/Logistic_classification.ipynb\" target=\"_parent\"><img src=\"https://colab.research.google.com/assets/colab-badge.svg\" alt=\"Open In Colab\"/></a>"
      ]
    },
    {
      "cell_type": "code",
      "metadata": {
        "id": "ocBW7iSVTZxg",
        "colab_type": "code",
        "colab": {
          "base_uri": "https://localhost:8080/",
          "height": 1000
        },
        "outputId": "ced53619-388b-4b98-a5da-e2a4d69894ca"
      },
      "source": [
        "import tensorflow as tf\n",
        "\n",
        "# 첫 째 원소 : 공부한 시간, 둘 째 원소 : 본 영상 시간\n",
        "# 0은 fail, 1은 pass\n",
        "x_data = [[1,2], [2,3], [3,1], [4,3], [5,3], [6,2]]\n",
        "y_data = [[0], [0], [0], [1], [1], [1]]\n",
        "\n",
        "X = tf.placeholder(tf.float32, shape=[None, 2])\n",
        "Y = tf.placeholder(tf.float32, shape=[None, 1])\n",
        "W = tf.Variable(tf.random_normal([2,1]), name = 'weight')\n",
        "b = tf.Variable(tf.random_normal([1]), name = 'bias')\n",
        "\n",
        "#sigmoid : tf.div(1., 1. + tf.exp(tf.matmul(X, W) + b))\n",
        "hypothesis = tf.sigmoid(tf.matmul(X,W) + b)\n",
        "\n",
        "cost = -tf.reduce_mean(Y * tf.log(hypothesis) + (1-Y) * tf.log(1-hypothesis))\n",
        "\n",
        "train = tf.train.GradientDescentOptimizer(learning_rate = 0.01).minimize(cost)\n",
        "\n",
        "predicted = tf.cast(hypothesis > 0.5, dtype=tf.float32)\n",
        "accuracy = tf.reduce_mean(tf.cast(tf.equal(predicted, Y), dtype=tf.float32))\n",
        "\n",
        "with tf.Session() as sess:\n",
        "  sess.run(tf.global_variables_initializer())\n",
        "\n",
        "  for step in range(10001):\n",
        "    cost_val, _ = sess.run([cost, train], feed_dict={X: x_data, Y:y_data})\n",
        "    if step % 200 == 0:\n",
        "      print(step, cost_val)\n",
        "  \n",
        "  h,c,a = sess.run([hypothesis, predicted, accuracy], feed_dict={X: x_data, Y: y_data})\n",
        "  print(\"\\nHypothesis : \" , h , \"\\nCorrect(Y) : \", c, \"\\nAccuarcy : \" , a)"
      ],
      "execution_count": 2,
      "outputs": [
        {
          "output_type": "stream",
          "text": [
            "0 2.2823403\n",
            "200 0.43838862\n",
            "400 0.38427582\n",
            "600 0.35571805\n",
            "800 0.33739328\n",
            "1000 0.32375866\n",
            "1200 0.3125532\n",
            "1400 0.30275902\n",
            "1600 0.29387984\n",
            "1800 0.28565636\n",
            "2000 0.2779443\n",
            "2200 0.27065787\n",
            "2400 0.26374164\n",
            "2600 0.25715795\n",
            "2800 0.25087836\n",
            "3000 0.24488033\n",
            "3200 0.23914528\n",
            "3400 0.23365651\n",
            "3600 0.22839959\n",
            "3800 0.22336106\n",
            "4000 0.21852867\n",
            "4200 0.2138912\n",
            "4400 0.2094378\n",
            "4600 0.20515871\n",
            "4800 0.20104463\n",
            "5000 0.19708681\n",
            "5200 0.19327724\n",
            "5400 0.18960823\n",
            "5600 0.18607269\n",
            "5800 0.18266381\n",
            "6000 0.17937534\n",
            "6200 0.1762013\n",
            "6400 0.17313607\n",
            "6600 0.1701745\n",
            "6800 0.1673116\n",
            "7000 0.16454268\n",
            "7200 0.16186352\n",
            "7400 0.15926985\n",
            "7600 0.15675785\n",
            "7800 0.15432389\n",
            "8000 0.15196438\n",
            "8200 0.14967611\n",
            "8400 0.147456\n",
            "8600 0.14530118\n",
            "8800 0.14320888\n",
            "9000 0.1411763\n",
            "9200 0.13920121\n",
            "9400 0.13728105\n",
            "9600 0.13541387\n",
            "9800 0.13359727\n",
            "10000 0.13182943\n",
            "\n",
            "Hypothesis :  [[0.02367535]\n",
            " [0.14800358]\n",
            " [0.26902544]\n",
            " [0.79827064]\n",
            " [0.94971496]\n",
            " [0.983622  ]] \n",
            "Correct(Y) :  [[0.]\n",
            " [0.]\n",
            " [0.]\n",
            " [1.]\n",
            " [1.]\n",
            " [1.]] \n",
            "Accuarcy :  1.0\n"
          ],
          "name": "stdout"
        }
      ]
    }
  ]
}