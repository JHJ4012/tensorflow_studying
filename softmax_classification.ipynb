{
  "nbformat": 4,
  "nbformat_minor": 0,
  "metadata": {
    "colab": {
      "name": "softmax_classification.ipynb",
      "provenance": [],
      "collapsed_sections": [],
      "include_colab_link": true
    },
    "kernelspec": {
      "name": "python3",
      "display_name": "Python 3"
    },
    "accelerator": "GPU"
  },
  "cells": [
    {
      "cell_type": "markdown",
      "metadata": {
        "id": "view-in-github",
        "colab_type": "text"
      },
      "source": [
        "<a href=\"https://colab.research.google.com/github/JHJ4012/tensorflow_studying/blob/master/softmax_classification.ipynb\" target=\"_parent\"><img src=\"https://colab.research.google.com/assets/colab-badge.svg\" alt=\"Open In Colab\"/></a>"
      ]
    },
    {
      "cell_type": "code",
      "metadata": {
        "id": "fQlicZ-dY0V3",
        "colab_type": "code",
        "colab": {
          "base_uri": "https://localhost:8080/",
          "height": 381
        },
        "outputId": "b1f258c6-9997-49a9-c5e7-9992178a96c8"
      },
      "source": [
        "import tensorflow as tf\n",
        "\n",
        "# x_data = [[1,2,1,1], [2,1,3,2], [3,1,3,4], [4,1,5,5], [1,7,4,4], [1,2,5,6], [1,6,6,6], [1,7,7,7]]\n",
        "# y_data = [[0,0,1], [0,0,1], [0,0,1], [0,1,0], [0,1,0], [0,1,0], [1,0,0], [1,0,0]]\n",
        "\n",
        "# X = tf.placeholder(\"float\", [None, 4])\n",
        "# Y = tf.placeholder(\"float\", [None,3])\n",
        "# nb_classes = 3\n",
        "\n",
        "# W = tf.Variable(tf.random_normal([4, nb_classes]), name='weight')\n",
        "# b = tf.Variable(tf.random_normal([nb_classes]), name = 'bias')\n",
        "\n",
        "# hypothesis = tf.nn.softmax(tf.matmul(X,W) + b)\n",
        "\n",
        "# cost = tf.reduce_mean(-tf.reduce_sum(Y*tf.log(hypothesis), axis=1))\n",
        "# optimizer = tf.train.GradientDescentOptimizer(learning_rate=0.1).minimize(cost)\n",
        "\n",
        "# with tf.Session() as sess:\n",
        "#   sess.run(tf.global_variables_initializer())\n",
        "  \n",
        "#   for step in range(2001):\n",
        "#     sess.run(optimizer, feed_dict = {X: x_data, Y: y_data})\n",
        "#     if step % 200 == 0:\n",
        "#       print(step, sess.run(cost, feed_dict={X: x_data, Y: y_data}))\n",
        "\n",
        "#   a = sess.run(hypothesis, feed_dict = {X: [[1,11,7,9]]})\n",
        "#   print(a, sess.run(tf.arg_max(a, 1)))\n",
        "\n",
        "\n",
        "#fancy softmax_classification with sofrmax_cross_entropy_with_logits\n",
        "x_data = [[1,2,1,1], [2,1,3,2], [3,1,3,4], [4,1,5,5], [1,7,4,4], [1,2,5,6], [1,6,6,6], [1,7,7,7]]\n",
        "y_data = [[0,0,1], [0,0,1], [0,0,1], [0,1,0], [0,1,0], [0,1,0], [1,0,0], [1,0,0]]\n",
        "\n",
        "X = tf.placeholder(\"float\", [None, 4])\n",
        "Y = tf.placeholder(\"float\", [None,3])\n",
        "nb_classes = 3\n",
        "\n",
        "W = tf.Variable(tf.random_normal([4, nb_classes]), name='weight')\n",
        "b = tf.Variable(tf.random_normal([nb_classes]), name = 'bias')\n",
        "\n",
        "logits = tf.matmul(X,W + b)\n",
        "hypothesis = tf.nn.softmax(logits)\n",
        "\n",
        "cost_i = tf.nn.softmax_cross_entropy_with_logits(logits = logits, labels = Y)\n",
        "cost = tf.reduce_mean(cost_i)\n",
        "optimizer = tf.train.GradientDescentOptimizer(learning_rate=0.1).minimize(cost)\n",
        "\n",
        "with tf.Session() as sess:\n",
        "  sess.run(tf.global_variables_initializer())\n",
        "  \n",
        "  for step in range(2001):\n",
        "    sess.run(optimizer, feed_dict = {X: x_data, Y: y_data})\n",
        "    if step % 200 == 0:\n",
        "      print(step, sess.run(cost, feed_dict={X: x_data, Y: y_data}))\n",
        "\n",
        "  a = sess.run(hypothesis, feed_dict = {X: [[1,11,7,9]]})\n",
        "  print(a, sess.run(tf.arg_max(a, 1)))\n",
        "\n"
      ],
      "execution_count": 6,
      "outputs": [
        {
          "output_type": "stream",
          "text": [
            "WARNING:tensorflow:From <ipython-input-6-efdf50646708>:44: softmax_cross_entropy_with_logits (from tensorflow.python.ops.nn_ops) is deprecated and will be removed in a future version.\n",
            "Instructions for updating:\n",
            "\n",
            "Future major versions of TensorFlow will allow gradients to flow\n",
            "into the labels input on backprop by default.\n",
            "\n",
            "See `tf.nn.softmax_cross_entropy_with_logits_v2`.\n",
            "\n",
            "0 4.8975625\n",
            "200 5.537047\n",
            "400 1.7001655\n",
            "600 5.648755\n",
            "800 1.2034582\n",
            "1000 4.269573\n",
            "1200 0.41439754\n",
            "1400 1.6811473\n",
            "1600 3.7387702\n",
            "1800 0.41731125\n",
            "2000 0.37650254\n",
            "[[6.5695844e-05 9.9993432e-01 2.6246897e-12]] [1]\n"
          ],
          "name": "stdout"
        }
      ]
    }
  ]
}