{
  "nbformat": 4,
  "nbformat_minor": 0,
  "metadata": {
    "colab": {
      "name": "tensorflow기본(inflearn).ipynb",
      "provenance": [],
      "collapsed_sections": [],
      "include_colab_link": true
    },
    "kernelspec": {
      "name": "python3",
      "display_name": "Python 3"
    },
    "accelerator": "GPU"
  },
  "cells": [
    {
      "cell_type": "markdown",
      "metadata": {
        "id": "view-in-github",
        "colab_type": "text"
      },
      "source": [
        "<a href=\"https://colab.research.google.com/github/JHJ4012/tensorflow_studying/blob/master/tensorflow_basic.ipynb\" target=\"_parent\"><img src=\"https://colab.research.google.com/assets/colab-badge.svg\" alt=\"Open In Colab\"/></a>"
      ]
    },
    {
      "cell_type": "code",
      "metadata": {
        "id": "3Id0I-MK2g0I",
        "colab_type": "code",
        "outputId": "49dc1e85-229c-4f3f-cffc-c249f413f5c4",
        "colab": {
          "base_uri": "https://localhost:8080/",
          "height": 53
        }
      },
      "source": [
        "import tensorflow as tf\n",
        "\n",
        "# hello = tf.constant(\"Hello, TensorFlow!\") #Hello, TensorFlow!라는 값이 들어있는 하나의 노드가 완성된 것\n",
        "# sess = tf.Session() #세션을 만듬\n",
        "# print(sess.run(hello))  #hello라는 노드를 실행한다는 뜻.\n",
        "#결과값의 b 는 byte 스트링이라는 뜻\n",
        "\n",
        "# node1 = tf.constant(3.0, tf.float32)\n",
        "# node2 = tf.constant(4.0)\n",
        "# node3 = tf.add(node1, node2)\n",
        "\n",
        "# print(\"node1 : \", node1 , \"node2 : \", node2)\n",
        "# print(\"node3 : \", node3)\n",
        " \n",
        "# sess = tf.Session()\n",
        "# print(\"sess.run(node1, node2) : \", sess.run([node1, node2]))\n",
        "# print(\"sess.run(node3) : \", sess.run(node3))\n",
        "\n",
        "a = tf.placeholder(tf.float32)\n",
        "b = tf.placeholder(tf.float32)\n",
        "adder_node = a + b\n",
        "\n",
        "print(sess.run(adder_node, feed_dict = {a : 3, b : 4.5}))\n",
        "print(sess.run(adder_node, feed_dict = {a : [1,3], b : [2,4]}))"
      ],
      "execution_count": 0,
      "outputs": [
        {
          "output_type": "stream",
          "text": [
            "7.5\n",
            "[3. 7.]\n"
          ],
          "name": "stdout"
        }
      ]
    }
  ]
}