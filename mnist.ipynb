{
  "nbformat": 4,
  "nbformat_minor": 0,
  "metadata": {
    "colab": {
      "name": "mnist.ipynb",
      "provenance": [],
      "collapsed_sections": [],
      "include_colab_link": true
    },
    "kernelspec": {
      "name": "python3",
      "display_name": "Python 3"
    },
    "accelerator": "GPU"
  },
  "cells": [
    {
      "cell_type": "markdown",
      "metadata": {
        "id": "view-in-github",
        "colab_type": "text"
      },
      "source": [
        "<a href=\"https://colab.research.google.com/github/JHJ4012/tensorflow_studying/blob/master/mnist.ipynb\" target=\"_parent\"><img src=\"https://colab.research.google.com/assets/colab-badge.svg\" alt=\"Open In Colab\"/></a>"
      ]
    },
    {
      "cell_type": "code",
      "metadata": {
        "id": "FVhpOaoupNwv",
        "colab_type": "code",
        "colab": {
          "base_uri": "https://localhost:8080/",
          "height": 665
        },
        "outputId": "e5439bd3-3ff6-4adf-96aa-a557874cdf08"
      },
      "source": [
        "import tensorflow as tf\n",
        "from tensorflow.examples.tutorials.mnist import input_data\n",
        "import matplotlib.pyplot as plt\n",
        "import random\n",
        "\n",
        "mnist = input_data.read_data_sets(\"MNIST_data/\", one_hot = True)\n",
        "\n",
        "nb_classes = 10\n",
        "\n",
        "X = tf.placeholder(tf.float32, [None, 784])\n",
        "Y = tf.placeholder(tf.float32, [None, nb_classes])\n",
        "\n",
        "W = tf.Variable(tf.random_normal([784, nb_classes]))\n",
        "b = tf.Variable(tf.random_normal([nb_classes]))\n",
        "\n",
        "hypothesis = tf.nn.softmax(tf.matmul(X,W) + b)\n",
        "\n",
        "cost = tf.reduce_mean(-tf.reduce_sum(Y * tf.log(hypothesis), axis = 1))\n",
        "optimizer = tf.train.GradientDescentOptimizer(learning_rate = 0.1).minimize(cost)\n",
        "\n",
        "#Test model\n",
        "is_correct = tf.equal(tf.arg_max(hypothesis, 1), tf.arg_max(Y,1))\n",
        "#Calculate accuracy\n",
        "accuracy = tf.reduce_mean(tf.cast(is_correct, tf.float32))\n",
        "\n",
        "training_epochs = 15  #epoch이라는 것은 전체 데이터셋을 한 번 학습을 한 것을 1 epoch이라고 함\n",
        "batch_size = 100\n",
        "\n",
        "with tf.Session() as sess:\n",
        "  sess.run(tf.global_variables_initializer())\n",
        "  for epoch in range(training_epochs):\n",
        "    avg_cost = 0\n",
        "    total_batch = int(mnist.train.num_examples / batch_size)  #전체 데이터셋에서 batch_size로 나눠서 몇 번 돌면 1 epoch이 되는가를 계산 \n",
        "\n",
        "    for i in range(total_batch):\n",
        "      batch_xs, batch_ys = mnist.train.next_batch(batch_size)\n",
        "      c, _ = sess.run([cost, optimizer], feed_dict = {X : batch_xs, Y : batch_ys})\n",
        "      avg_cost += c / total_batch\n",
        "\n",
        "    print('Epoch:', '%04d' % (epoch + 1), 'cost=', '{:.9f}'.format(avg_cost))\n",
        "\n",
        "  #test\n",
        "  print(\"Accuracy: \", accuracy.eval(session = sess, feed_dict = {X: mnist.test.images, Y: mnist.test.labels}))\n",
        "  #mnist에서 랜덤으로 이미지 가져와 예측해보기\n",
        "  r = random.randint(0, mnist.test.num_examples -1)\n",
        "  print(\"Label: \", sess.run(tf.argmax(mnist.test.labels[r:r+1], 1)))\n",
        "  print(\"Prediction:\", sess.run(tf.argmax(hypothesis, 1), feed_dict={X:mnist.test.images[r:r+1]}))\n",
        "  plt.imshow(mnist.test.images[r:r+1].reshape(28,28), cmap='Greys', interpolation='nearest')\n",
        "  plt.show()"
      ],
      "execution_count": 7,
      "outputs": [
        {
          "output_type": "stream",
          "text": [
            "Extracting MNIST_data/train-images-idx3-ubyte.gz\n",
            "Extracting MNIST_data/train-labels-idx1-ubyte.gz\n",
            "Extracting MNIST_data/t10k-images-idx3-ubyte.gz\n",
            "Extracting MNIST_data/t10k-labels-idx1-ubyte.gz\n",
            "Epoch: 0001 cost= 2.676105335\n",
            "Epoch: 0002 cost= 1.107695017\n",
            "Epoch: 0003 cost= 0.881633548\n",
            "Epoch: 0004 cost= 0.770631252\n",
            "Epoch: 0005 cost= 0.700516002\n",
            "Epoch: 0006 cost= 0.650559165\n",
            "Epoch: 0007 cost= 0.613199308\n",
            "Epoch: 0008 cost= 0.583249921\n",
            "Epoch: 0009 cost= 0.558667650\n",
            "Epoch: 0010 cost= 0.537876921\n",
            "Epoch: 0011 cost= 0.520555498\n",
            "Epoch: 0012 cost= 0.504957774\n",
            "Epoch: 0013 cost= 0.491549103\n",
            "Epoch: 0014 cost= 0.479680855\n",
            "Epoch: 0015 cost= 0.469491183\n",
            "Accuracy:  0.8888\n",
            "Label:  [9]\n",
            "Prediction: [9]\n"
          ],
          "name": "stdout"
        },
        {
          "output_type": "display_data",
          "data": {
            "image/png": "[encoded data removed]",
            "text/plain": [
              "<Figure size 432x288 with 1 Axes>"
            ]
          },
          "metadata": {
            "tags": []
          }
        }
      ]
    }
  ]
}